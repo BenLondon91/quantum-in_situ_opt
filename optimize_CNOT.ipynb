{
 "cells": [
  {
   "cell_type": "markdown",
   "metadata": {},
   "source": [
    "Optimise CNOT in quantum system"
   ]
  },
  {
   "cell_type": "code",
   "execution_count": 1,
   "metadata": {
    "collapsed": false
   },
   "outputs": [],
   "source": [
    "%matplotlib inline\n",
    "import numpy as np\n",
    "import matplotlib.pyplot as plt\n",
    "import os, shutil\n",
    "\n",
    "#QuTiP\n",
    "import qutip.logging_utils as logging\n",
    "logger = logging.get_logger()\n",
    "#Local\n",
    "import qsoconfig, qso, qsorun\n"
   ]
  },
  {
   "cell_type": "markdown",
   "metadata": {},
   "source": [
    "Configuration"
   ]
  },
  {
   "cell_type": "code",
   "execution_count": 2,
   "metadata": {
    "collapsed": false
   },
   "outputs": [],
   "source": [
    "verbosity = 0\n",
    "# Create the configuration object\n",
    "# This holds the parameters for the pulse optimisation and any\n",
    "# general parameters\n",
    "cfg = qsoconfig.gen_optim_config(parse_cl_args=False, verbosity=verbosity)\n",
    "# fid_type options pure_Choi_local|pure_Choi_global|unit_global\n",
    "cfg.fid_type = 'pure_choi_local'\n",
    "# stats_type options: standard|local\n",
    "cfg.stats_type = 'local'\n",
    "# If true then processing stats will be collected\n",
    "cfg.gen_stats = True\n",
    "# If True then stats for each pulse optimisation will be reported\n",
    "cfg.report_stats = False\n",
    "# Print messaging level 0-3\n",
    "cfg.verbosity = verbosity\n",
    "# qutip internal logging level\n",
    "cfg.log_level = logging.WARN\n",
    "# If True then the physics parameters are included in the output\n",
    "cfg.report_phys_params = False\n",
    "# Folder where any output files will be saved\n",
    "cfg.output_dir = \"output/optim_CNOT/default\"\n",
    "# Used as part of output file names\n",
    "cfg.output_base_name = 'qso_CNOT'\n",
    "# Keep the pulse optimisation results, so we can plot amplitudes later\n",
    "cfg.keep_optim_result = True\n",
    "\n",
    "# Pulse generator type.\n",
    "# Options: \n",
    "# For descriptions see qutip.control.pulsegen.create_pulse_gen\n",
    "# Only the random types make sense with multiple repetitions\n",
    "cfg.p_type = 'RND'\n",
    "\n",
    "# These will be used as amplitude bounds for the PulseGenerator and the Optimizer\n",
    "cfg.amp_lbound = -np.Inf\n",
    "cfg.amp_ubound = np.Inf\n",
    "# Number of repetions for each pulse optimisation\n",
    "cfg.num_reps = 10\n",
    "# Number of cpus to utilise\n",
    "cfg.num_cpus = 4\n",
    "\n",
    "dir_ok, cfg.output_dir, msg = cfg.check_create_output_dir(cfg.output_dir)\n",
    "if not dir_ok:\n",
    "    raise RuntimeError(msg)\n",
    "if verbosity > 0:\n",
    "    print(\"Output files will be saved in:\\n{}\".format(cfg.output_dir))\n",
    "\n",
    "# Create the Optimizer object and its children\n",
    "# (Dynamics, FidelityComputer, TerminationConditions...)\n",
    "optim = qsoconfig.gen_optim_objects(cfg)\n"
   ]
  },
  {
   "cell_type": "code",
   "execution_count": 3,
   "metadata": {
    "collapsed": true
   },
   "outputs": [],
   "source": [
    "# Configure the quantum system\n",
    "dyn = optim.dynamics\n",
    "# Configure the quantum system\n",
    "# Physical parameters of the model\n",
    "# Any number of qubits >= 3 can choosen. However larger numbers take a lot of processing\n",
    "dyn.num_qubits = 3\n",
    "# interact options: Ising|Heisenberg| or combinations of xyz\n",
    "dyn.interact = 'Ising'\n",
    "# topology options: chain|star|full|ring\n",
    "dyn.topology = 'chain'\n",
    "# ctrls_type options: combinations of xyz\n",
    "dyn.ctrls_type = 'XY'\n",
    "# Interaction strengths (see qsoconfig.py for details)\n",
    "dyn.coup_const = 1.0\n",
    "# By CNOT gate is always on qubits 1&2\n",
    "# These attribs can be used to permute the couplings to effectively move the gate qubits\n",
    "# (see qsoconfig.py for details)\n",
    "dyn.hspace_order = []\n",
    "dyn.auto_hspace = False\n",
    "dyn.hspace_01_sep = 0\n",
    "dyn.hspace_0_idx = 0\n"
   ]
  },
  {
   "cell_type": "code",
   "execution_count": 4,
   "metadata": {
    "collapsed": false
   },
   "outputs": [],
   "source": [
    "# Pulse parameters\n",
    "# Number of timeslots for the pulse discretisation\n",
    "dyn.num_tslots = 12\n",
    "# Time allowed for the gate to evolve\n",
    "dyn.evo_time = 10.0\n",
    "\n",
    "# Pulse optimisation termination conditions\n",
    "# The optimisation algorithm will stop when any of these conditions are met\n",
    "tc = optim.termination_conditions\n",
    "# Target for the infidelity (1 - gate fidelity)\n",
    "tc.fid_err_targ = 1e-3\n",
    "# Sum of the gradients wrt optimisation parameters (timeslot amplitudes)\n",
    "tc.min_gradient_norm = 1e-30\n",
    "# Number of iterations of the algorithm\n",
    "tc.max_iter = 200\n",
    "# Computation time (in seconds)\n",
    "tc.max_wall_time = 60.0\n",
    "# Relative change in fid_err between iterations\n",
    "# (see qutip / scipy documentation for details)\n",
    "tc.accuracy_factor = 1e5\n",
    "\n",
    "# Fidelity computer\n",
    "fid_comp = dyn.fid_computer\n",
    "\n",
    "# This is the maximum precsion that sub-system fidelities are 'measured'\n",
    "# see choi_closed_fidcomp.my_round for details\n",
    "# Zero implies full machine precision\n",
    "fid_comp.numer_acc = 0.0\n",
    "\n",
    "# Pulse generator\n",
    "p_gen = optim.pulse_generator\n",
    "# by default initial amplitudes will be between -1 and 1\n",
    "# This can be changed by setting the bounds or scaling\n",
    "p_gen.lbound = cfg.amp_lbound\n",
    "p_gen.ubound = cfg.amp_ubound\n",
    "p_gen.scaling = 1.0\n",
    "\n",
    "# Create the targets and Hamiltonians\n",
    "\n",
    "qsoconfig.config_dynamics(dyn)\n"
   ]
  },
  {
   "cell_type": "markdown",
   "metadata": {},
   "source": [
    "Run the pulse optimisation repetions"
   ]
  },
  {
   "cell_type": "code",
   "execution_count": 5,
   "metadata": {
    "collapsed": false
   },
   "outputs": [
    {
     "name": "stdout",
     "output_type": "stream",
     "text": [
      "All MP reps complete\n"
     ]
    }
   ],
   "source": [
    "combres = qsorun.run_qso_sims_mp(optim)"
   ]
  },
  {
   "cell_type": "markdown",
   "metadata": {},
   "source": [
    "Visualisation"
   ]
  },
  {
   "cell_type": "code",
   "execution_count": null,
   "metadata": {
    "collapsed": false
   },
   "outputs": [],
   "source": [
    "# Plot the initial and final pulse for the best fidelity result\n",
    "best_result = combres.results[0].optim_result\n",
    "\n",
    "u0 = best_result.initial_amps\n",
    "uf = best_result.final_amps\n",
    "time = best_result.time\n",
    "\n",
    "fig1 = plt.figure()\n",
    "ax1 = fig1.add_subplot(2, 1, 1)\n",
    "ax1.set_title(\"Initial control amps\")\n",
    "ax1.set_xlabel(\"Time\")\n",
    "ax1.set_ylabel(\"Control amplitude\")\n",
    "for j in range(dyn.num_ctrls):\n",
    "    ax1.step(time, np.hstack((u0[:, j], u0[-1, j])), where='post')\n",
    "\n",
    "ax2 = fig1.add_subplot(2, 1, 2)\n",
    "ax2.set_title(\"Optimised Control Sequences\")\n",
    "ax2.set_xlabel(\"Time\")\n",
    "ax2.set_ylabel(\"Control amplitude\")\n",
    "for j in range(dyn.num_ctrls):\n",
    "    ax2.step(time, np.hstack((uf[:, j], uf[-1, j])), where='post')\n",
    "\n",
    "fig1.tight_layout()\n",
    "\n",
    "# Plot histogram of iterations for each repetition\n",
    "num_iter = [r.num_iter for r in combres.results]\n",
    "nbins = int(max(4, cfg.num_reps / 4))\n",
    "fig2 = plt.figure()\n",
    "ax3 = fig2.add_subplot(1, 1, 1)\n",
    "ax3.set_title(\"Iterations distribution\")\n",
    "ax2.set_xlabel(\"number of iterations\")\n",
    "ax2.set_ylabel(\"Frequency\")\n",
    "ax3.hist(num_iter, bins=nbins)\n",
    "\n"
   ]
  },
  {
   "cell_type": "markdown",
   "metadata": {},
   "source": [
    "Numerical accuracy threshold search\n",
    "\n",
    "Note that this search typically requires many repeated pulse optimisations. Meaning it will take a lot of cpu time.\n"
   ]
  },
  {
   "cell_type": "code",
   "execution_count": null,
   "metadata": {
    "collapsed": false
   },
   "outputs": [],
   "source": [
    "# Reset some paramters to be suitable for demonstrating the automatic search for \n",
    "# the numerical accuracy threshold\n",
    "# Note these parameters are chosen to mimimise processing time,\n",
    "# and are not ideal for creating a statistically valid result\n",
    "\n",
    "cfg.output_dir = \"output/optim_CNOT/nal\"\n",
    "\n",
    "# 50 reps would be much better\n",
    "cfg.num_reps = 10\n",
    "# 50 scenarios would be much better\n",
    "cfg.max_mp_scens = 20\n",
    "\n",
    "# Take an easy target fidelity\n",
    "tc.fid_err_targ = 1e-1\n",
    "\n",
    "# These next parameters are only used in the automatic search for the numerical\n",
    "# accuracy threshold\n",
    "fid_comp.st_numer_acc = 0.01\n",
    "fid_comp.end_numer_acc = 0.05\n",
    "# These proportions are used to determine the boundaries for the search\n",
    "# They are proportions of the number number of successful repeats \n",
    "# for the scenario.\n",
    "fid_comp.success_prop_uthresh = 0.90\n",
    "fid_comp.success_prop_lthresh = 0.1\n",
    "\n",
    "dir_ok, cfg.output_dir, msg = cfg.check_create_output_dir(cfg.output_dir)\n",
    "if not dir_ok:\n",
    "    raise RuntimeError(msg)\n",
    "\n",
    "# Clear any existing result collation file, otherwise this will be loaded\n",
    "# and the search will continue from where it left off\n",
    "for f in os.listdir(cfg.output_dir):\n",
    "    fp = os.path.join(cfg.output_dir, f)\n",
    "    if os.path.isfile(fp):\n",
    "        os.unlink(fp)\n",
    "        \n",
    "qsorun.run_qso_sims_numer_acc_limit(optim)\n",
    "\n",
    "# As there is no parameter file, we need to save some data for the interpolater\n",
    "interp_data = [dyn.num_qubits, fid_comp.st_numer_acc, fid_comp.end_numer_acc]\n",
    "interp_fpath = os.path.join(cfg.output_dir, \"interp.dat\")\n",
    "np.savetxt(interp_fpath, interp_data, fmt='%.5e')\n"
   ]
  },
  {
   "cell_type": "code",
   "execution_count": null,
   "metadata": {
    "collapsed": true
   },
   "outputs": [],
   "source": []
  }
 ],
 "metadata": {
  "kernelspec": {
   "display_name": "Python [default]",
   "language": "python",
   "name": "python3"
  },
  "language_info": {
   "codemirror_mode": {
    "name": "ipython",
    "version": 3
   },
   "file_extension": ".py",
   "mimetype": "text/x-python",
   "name": "python",
   "nbconvert_exporter": "python",
   "pygments_lexer": "ipython3",
   "version": "3.5.2"
  }
 },
 "nbformat": 4,
 "nbformat_minor": 2
}
