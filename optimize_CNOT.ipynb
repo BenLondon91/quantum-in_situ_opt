{
 "cells": [
  {
   "cell_type": "markdown",
   "metadata": {},
   "source": [
    "Optimise CNOT in quantum system"
   ]
  },
  {
   "cell_type": "code",
   "execution_count": 5,
   "metadata": {
    "collapsed": true
   },
   "outputs": [],
   "source": [
    "#QuTiP\n",
    "import numpy as np\n",
    "import qutip.logging_utils as logging\n",
    "logger = logging.get_logger()\n",
    "#Local\n",
    "import qsoconfig, qso, qsorun\n",
    "\n"
   ]
  },
  {
   "cell_type": "markdown",
   "metadata": {},
   "source": [
    "Configuration"
   ]
  },
  {
   "cell_type": "code",
   "execution_count": 6,
   "metadata": {},
   "outputs": [
    {
     "name": "stdout",
     "output_type": "stream",
     "text": [
      "No parameter file. Using defaults in code.\n",
      "evo_time=10.0\n",
      "num_tslots=12\n"
     ]
    }
   ],
   "source": [
    "# Create the configuration object\n",
    "# This holds the parameters for the pulse optimisation and any\n",
    "# general parameters\n",
    "cfg = qsoconfig.gen_optim_config(parse_cl_args=False)\n",
    "# fid_type options pure_Choi_local|pure_Choi_global|unit_global\n",
    "cfg.fid_type = 'pure_choi_local'\n",
    "# stats_type options: standard|local\n",
    "cfg.stats_type = 'local'\n",
    "# If true then processing stats will be collected\n",
    "cfg.gen_stats = True\n",
    "# Print messaging level 0-3\n",
    "cfg.verbosity = 0\n",
    "# Pulse generator type.\n",
    "# Options: \n",
    "# For descriptions see qutip.control.pulsegen.create_pulse_gen\n",
    "# Only the random types make sense with multiple repetitions\n",
    "cfg.p_type = 'RND'\n",
    "\n",
    "# These will be used as amplitude bounds for the PulseGenerator and the Optimizer\n",
    "cfg.amp_lbound = -np.Inf\n",
    "cfg.amp_ubound = np.Inf\n",
    "# Number of repetions for each pulse optimisation\n",
    "cfg.num_reps = 10\n",
    "# Number of cpus to utilise\n",
    "cfg.num_cpus = 4\n",
    "\n",
    "# Multi-processing options:-\n",
    "#    <blank> - repetitions will be spread over available cpus\n",
    "#    num_tslots - scenarios with different num_tslots spread over cpus\n",
    "#    numer_acc_limit - automatic search numerical accuracy threshold\n",
    "# Note that numer_acc_limit typically requires many repeated pulse optimisations.\n",
    "# Meaning it will take a lot of cpu time.\n",
    "cfg.mp_opt = \"\"\n",
    "\n",
    "# Create the Optimizer object and its children\n",
    "# (Dynamics, FidelityComputer, TerminationConditions...)\n",
    "optim = qsoconfig.gen_optim_objects(cfg)\n"
   ]
  },
  {
   "cell_type": "code",
   "execution_count": 7,
   "metadata": {},
   "outputs": [],
   "source": [
    "# Configure the quantum system\n",
    "dyn = optim.dynamics\n",
    "# Configure the quantum system\n",
    "# Physical parameters of the model\n",
    "# Any number of qubits >= 3 can choosen. However larger numbers take a lot of processing\n",
    "dyn.num_qubits = 3\n",
    "# interact options: Ising|Heisenberg| or combinations of xyz\n",
    "dyn.interact = 'Ising'\n",
    "# topology options: chain|star|full|ring\n",
    "dyn.topology = 'chain'\n",
    "# ctrls_type options: combinations of xyz\n",
    "dyn.ctrls_type = 'XY'\n",
    "# Interaction strengths (see qsoconfig.py for details)\n",
    "dyn.coup_const = 1.0\n",
    "# By CNOT gate is always on qubits 1&2\n",
    "# These attribs can be used to permute the couplings to effectively move the gate qubits\n",
    "# (see qsoconfig.py for details)\n",
    "dyn.hspace_order = []\n",
    "dyn.auto_hspace = False\n",
    "dyn.hspace_01_sep = 0\n",
    "dyn.hspace_0_idx = 0\n",
    "\n"
   ]
  },
  {
   "cell_type": "code",
   "execution_count": 8,
   "metadata": {},
   "outputs": [
    {
     "name": "stdout",
     "output_type": "stream",
     "text": [
      "Configuring drift...\n",
      "... for 3 qubits\n",
      "using Ising interactions\n"
     ]
    },
    {
     "ename": "IndexError",
     "evalue": "list index out of range",
     "output_type": "error",
     "traceback": [
      "\u001b[0;31m---------------------------------------------------------------------------\u001b[0m",
      "\u001b[0;31mIndexError\u001b[0m                                Traceback (most recent call last)",
      "\u001b[0;32m<ipython-input-8-d07455e9b48d>\u001b[0m in \u001b[0;36m<module>\u001b[0;34m()\u001b[0m\n\u001b[1;32m     51\u001b[0m \u001b[0;31m# Create the targets and Hamiltonians\u001b[0m\u001b[0;34m\u001b[0m\u001b[0;34m\u001b[0m\u001b[0m\n\u001b[1;32m     52\u001b[0m \u001b[0;34m\u001b[0m\u001b[0m\n\u001b[0;32m---> 53\u001b[0;31m \u001b[0mqsoconfig\u001b[0m\u001b[0;34m.\u001b[0m\u001b[0mconfig_dynamics\u001b[0m\u001b[0;34m(\u001b[0m\u001b[0mdyn\u001b[0m\u001b[0;34m)\u001b[0m\u001b[0;34m\u001b[0m\u001b[0m\n\u001b[0m\u001b[1;32m     54\u001b[0m \u001b[0;34m\u001b[0m\u001b[0m\n",
      "\u001b[0;32m~/GitHub/ajgpitch/quantum-in_situ_opt/qsoconfig.py\u001b[0m in \u001b[0;36mconfig_dynamics\u001b[0;34m(dyn)\u001b[0m\n\u001b[1;32m    607\u001b[0m     \u001b[0mprint\u001b[0m\u001b[0;34m(\u001b[0m\u001b[0;34m\"... for {} qubits\"\u001b[0m\u001b[0;34m.\u001b[0m\u001b[0mformat\u001b[0m\u001b[0;34m(\u001b[0m\u001b[0mnq\u001b[0m\u001b[0;34m)\u001b[0m\u001b[0;34m)\u001b[0m\u001b[0;34m\u001b[0m\u001b[0m\n\u001b[1;32m    608\u001b[0m \u001b[0;34m\u001b[0m\u001b[0m\n\u001b[0;32m--> 609\u001b[0;31m     \u001b[0mH_d\u001b[0m \u001b[0;34m=\u001b[0m \u001b[0mqso\u001b[0m\u001b[0;34m.\u001b[0m\u001b[0mget_drift\u001b[0m\u001b[0;34m(\u001b[0m\u001b[0mdyn\u001b[0m\u001b[0;34m)\u001b[0m\u001b[0;34m\u001b[0m\u001b[0m\n\u001b[0m\u001b[1;32m    610\u001b[0m     \u001b[0mprint\u001b[0m\u001b[0;34m(\u001b[0m\u001b[0;34m\"Drift dims {}\"\u001b[0m\u001b[0;34m.\u001b[0m\u001b[0mformat\u001b[0m\u001b[0;34m(\u001b[0m\u001b[0mH_d\u001b[0m\u001b[0;34m.\u001b[0m\u001b[0mdims\u001b[0m\u001b[0;34m)\u001b[0m\u001b[0;34m)\u001b[0m\u001b[0;34m\u001b[0m\u001b[0m\n\u001b[1;32m    611\u001b[0m \u001b[0;34m\u001b[0m\u001b[0m\n",
      "\u001b[0;32m~/GitHub/ajgpitch/quantum-in_situ_opt/qso.py\u001b[0m in \u001b[0;36mget_drift\u001b[0;34m(dyn, num_qubits, topology, interact, coup_const, hspace_order)\u001b[0m\n\u001b[1;32m    195\u001b[0m                 \u001b[0;32melse\u001b[0m\u001b[0;34m:\u001b[0m\u001b[0;34m\u001b[0m\u001b[0m\n\u001b[1;32m    196\u001b[0m                     \u001b[0mopers\u001b[0m \u001b[0;34m=\u001b[0m \u001b[0mspins\u001b[0m\u001b[0;34m\u001b[0m\u001b[0m\n\u001b[0;32m--> 197\u001b[0;31m                 \u001b[0mH_d\u001b[0m \u001b[0;34m+=\u001b[0m \u001b[0mg\u001b[0m\u001b[0;34m[\u001b[0m\u001b[0mj\u001b[0m\u001b[0;34m]\u001b[0m\u001b[0;34m*\u001b[0m\u001b[0mtensor\u001b[0m\u001b[0;34m(\u001b[0m\u001b[0;34m*\u001b[0m\u001b[0mopers\u001b[0m\u001b[0;34m)\u001b[0m\u001b[0;34m\u001b[0m\u001b[0m\n\u001b[0m\u001b[1;32m    198\u001b[0m                 \u001b[0mspins\u001b[0m\u001b[0;34m.\u001b[0m\u001b[0mrotate\u001b[0m\u001b[0;34m(\u001b[0m\u001b[0;34m)\u001b[0m\u001b[0;34m\u001b[0m\u001b[0m\n\u001b[1;32m    199\u001b[0m                 \u001b[0mj\u001b[0m \u001b[0;34m+=\u001b[0m \u001b[0;36m1\u001b[0m\u001b[0;34m\u001b[0m\u001b[0m\n",
      "\u001b[0;31mIndexError\u001b[0m: list index out of range"
     ]
    }
   ],
   "source": [
    "# Pulse parameters\n",
    "# Number of timeslots for the pulse discretisation\n",
    "dyn.num_tslots = 12\n",
    "# Time allowed for the gate to evolve\n",
    "dyn.evo_time = 10.0\n",
    "\n",
    "# Pulse optimisation termination conditions\n",
    "# The optimisation algorithm will stop when any of these conditions are met\n",
    "tc = optim.termination_conditions\n",
    "# Target for the infidelity (1 - gate fidelity)\n",
    "tc.fid_err_targ = 1e-3\n",
    "# Sum of the gradients wrt optimisation parameters (timeslot amplitudes)\n",
    "tc.min_gradient_norm = 1e-30\n",
    "# Number of iterations of the algorithm\n",
    "tc.max_iter = 2400\n",
    "# Computation time (in seconds)\n",
    "tc.max_wall_time = 120*60.0\n",
    "# Relative change in fid_err between iterations\n",
    "# (see qutip / scipy documentation for details)\n",
    "tc.accuracy_factor = 1e5\n",
    "\n",
    "# Fidelity computer\n",
    "fid_comp = dyn.fid_computer\n",
    "\n",
    "# This is the maximum precsion that sub-system fidelities are 'measured'\n",
    "# see choi_closed_fidcomp.my_round for details\n",
    "# Zero implies full machine precision\n",
    "fid_comp.numer_acc = 0.0\n",
    "\n",
    "# These next parameters are used in the automatic search for the numerical\n",
    "# accuracy threshold\n",
    "# If numer_acc_exact==false, then numer_acc, st_numer_acc, end_numer_acc\n",
    "# will be treated as proportion of fid_err_targ (during config)\n",
    "fid_comp.numer_acc_exact = False\n",
    "fid_comp.st_numer_acc = 0.01\n",
    "fid_comp.end_numer_acc = 0.2\n",
    "# These proportions are used to determine the boundaries for the search\n",
    "# They are proportions of the number number of successful repeats \n",
    "# for the scenario.\n",
    "fid_comp.success_prop_uthresh = 0.95\n",
    "fid_comp.success_prop_lthresh = 0.01\n",
    "\n",
    "# Pulse generator\n",
    "p_gen = optim.pulse_generator\n",
    "# by default initial amplitudes will be between -1 and 1\n",
    "# This can be changed by setting the bounds or scaling\n",
    "p_gen.lbound = cfg.amp_lbound\n",
    "p_gen.ubound = cfg.amp_ubound\n",
    "p_gen.scaling = 1.0\n",
    "\n",
    "# Create the targets and Hamiltonians\n",
    "\n",
    "qsoconfig.config_dynamics(dyn)\n",
    "\n"
   ]
  },
  {
   "cell_type": "code",
   "execution_count": null,
   "metadata": {
    "collapsed": true
   },
   "outputs": [],
   "source": []
  }
 ],
 "metadata": {
  "kernelspec": {
   "display_name": "Python 3",
   "language": "python",
   "name": "python3"
  },
  "language_info": {
   "codemirror_mode": {
    "name": "ipython",
    "version": 3
   },
   "file_extension": ".py",
   "mimetype": "text/x-python",
   "name": "python",
   "nbconvert_exporter": "python",
   "pygments_lexer": "ipython3",
   "version": "3.6.2"
  }
 },
 "nbformat": 4,
 "nbformat_minor": 2
}
