{
 "cells": [
  {
   "cell_type": "markdown",
   "metadata": {},
   "source": [
    "Optimise CNOT in quantum system"
   ]
  },
  {
   "cell_type": "code",
   "execution_count": 1,
   "metadata": {
    "collapsed": true
   },
   "outputs": [],
   "source": [
    "#QuTiP\n",
    "import qutip.logging_utils as logging\n",
    "logger = logging.get_logger()\n",
    "#Local\n",
    "import qsoconfig, qso, qsorun\n",
    "\n"
   ]
  },
  {
   "cell_type": "markdown",
   "metadata": {},
   "source": [
    "Configuration"
   ]
  },
  {
   "cell_type": "code",
   "execution_count": null,
   "metadata": {
    "collapsed": true
   },
   "outputs": [],
   "source": [
    "# Create the configuration object\n",
    "# This holds the parameters for the pulse optimisation and any\n",
    "# general parameters\n",
    "cfg = qsoconfig.gen_optim_config()\n",
    "cfg = optim.config\n",
    "# fid_type options pure_Choi_local|pure_Choi_global|unit_global\n",
    "cfg.fid_type = 'pure_choi_local'\n",
    "# stats_type options: standard|local\n",
    "cfg.stats_type = 'local'\n",
    "# If true then processing stats will be collected\n",
    "cfg.gen_stats = True\n",
    "# Print messaging level\n",
    "cfg.verbosity = 0\n",
    "\n",
    "# These will be used as bounds for the PulseGenerator and the Optimizer\n",
    "cfg.amp_lbound = -np.Inf\n",
    "cfg.amp_ubound = np.Inf\n",
    "# Number of repetions for each pulse optimisation\n",
    "cfg.num_reps = 10\n",
    "# Number of cpus to utilise\n",
    "cfg.num_cpus = 4\n",
    "\n",
    "# Multi-processing options:-\n",
    "#    <blank> - repetitions will be spread over available cpus\n",
    "#    num_tslots - scenarios with different num_tslots spread over cpus\n",
    "#    numer_acc_limit - automatic search numerical accuracy threshold\n",
    "# Note that numer_acc_limit typically requires many repeated pulse optimisations.\n",
    "# Meaning it will take a lot of cpu time.\n",
    "cfg.mp_opt = \"\"\n",
    "\n",
    "# Create the Optimizer object and its children\n",
    "# (Dynamics, FidelityComputer, TerminationConditions...)\n",
    "optim = qsoconfig.gen_optim_objects(cfg)\n"
   ]
  },
  {
   "cell_type": "code",
   "execution_count": null,
   "metadata": {
    "collapsed": true
   },
   "outputs": [],
   "source": [
    "# Configure the quantum system\n",
    "dyn = optim.dynamics\n",
    "# Configure the quantum system\n",
    "# Physical parameters of the model\n",
    "# Any number of qubits >= 3 can choosen. However larger numbers take a lot of processing\n",
    "dyn.num_qubits = 3\n",
    "# interact options: Ising|Heisenberg| or combinations of xyz\n",
    "dyn.interact = 'Ising'\n",
    "# topology options: chain|star|full|ring\n",
    "dyn.topology = 'chain'\n",
    "# ctrls_type options: combinations of xyz\n",
    "dyn.ctrls_type = 'XY'\n",
    "# Interaction strengths (see qsoconfig.py for details)\n",
    "dyn.coup_const = [1.0]\n",
    "# By CNOT gate is always on qubits 1&2\n",
    "# These attribs can be used to permute the couplings to effectively move the gate qubits\n",
    "# (see qsoconfig.py for details)\n",
    "dyn.hspace_order = []\n",
    "dyn.auto_hspace = False\n",
    "dyn.hspace_01_sep = 0\n",
    "dyn.hspace_0_idx = 0\n",
    "\n"
   ]
  },
  {
   "cell_type": "code",
   "execution_count": null,
   "metadata": {
    "collapsed": true
   },
   "outputs": [],
   "source": [
    "# Pulse parameters\n",
    "# Number of timeslots for the pulse discretisation\n",
    "dyn.num_tslots = 12\n",
    "# Time allowed for the gate to evolve\n",
    "dyn.evo_time = 10.0\n",
    "\n",
    "# Pulse optimisation termination conditions\n",
    "# The optimisation algorithm will stop when any of these conditions are met\n",
    "tc = optim.termination_conditions\n",
    "# Target for the infidelity (1 - gate fidelity)\n",
    "tc.fid_err_targ = 1e-3\n",
    "# Sum of the gradients wrt optimisation parameters (timeslot amplitudes)\n",
    "tc.min_gradient_norm = 1e-30\n",
    "# Number of iterations of the algorithm\n",
    "tc.max_iter = 2400\n",
    "# Computation time (in seconds)\n",
    "tc.max_wall_time = 120*60.0\n",
    "# Relative change in fid_err between iterations\n",
    "# (see qutip / scipy documentation for details)\n",
    "tc.accuracy_factor = 1e5\n",
    "\n",
    "# Fidelity computer\n",
    "fid_comp = dyn.fid_computer\n",
    "\n",
    "\n"
   ]
  }
 ],
 "metadata": {
  "kernelspec": {
   "display_name": "Python 3",
   "language": "python",
   "name": "python3"
  },
  "language_info": {
   "codemirror_mode": {
    "name": "ipython",
    "version": 3
   },
   "file_extension": ".py",
   "mimetype": "text/x-python",
   "name": "python",
   "nbconvert_exporter": "python",
   "pygments_lexer": "ipython3",
   "version": "3.6.2"
  }
 },
 "nbformat": 4,
 "nbformat_minor": 2
}
