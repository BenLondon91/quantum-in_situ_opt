{
 "cells": [
  {
   "cell_type": "markdown",
   "metadata": {},
   "source": [
    "# Optimise CNOT in quantum system\n",
    "\n",
    "ising_chain-3q-nal\n",
    "\n",
    "Run simulations of in-situ quantum gate optimisation. Specifically the optimisation of a CNOT gate on one pair of qubits, which are typically part of a larger system, which can be configured in a variety of topologies and with different interaction types.\n",
    "\n",
    "The script can be used to generate results from\n",
    "https://arxiv.org/abs/1701.01723\n",
    "\n",
    "The majority of the code is located in modules. See qsoconfig.py for descriptions of the config parameters\n",
    "\n",
    "Two processing options are provided in this notebook. For both options a results file will be produced by each process that performs one or more repetitions of the pulse optimisation. All the repetition results will also be combined in to one file. Another file will contain collated results, grouped appropriately, with averaged statistics."
   ]
  },
  {
   "cell_type": "code",
   "execution_count": 1,
   "metadata": {
    "collapsed": false
   },
   "outputs": [],
   "source": [
    "%matplotlib inline\n",
    "import numpy as np\n",
    "import matplotlib.pyplot as plt\n",
    "import os, shutil\n",
    "\n",
    "#QuTiP\n",
    "import qutip.logging_utils as logging\n",
    "logger = logging.get_logger()\n",
    "#Local\n",
    "import qsoconfig, qso, qsorun\n"
   ]
  },
  {
   "cell_type": "markdown",
   "metadata": {},
   "source": [
    "## Configuration"
   ]
  },
  {
   "cell_type": "code",
   "execution_count": 2,
   "metadata": {
    "collapsed": false
   },
   "outputs": [
    {
     "name": "stdout",
     "output_type": "stream",
     "text": [
      "No parameter file. Using defaults in code.\n",
      "Output files will be saved in:\n",
      "output/optim_CNOT/default\n",
      "evo_time=10.0\n",
      "num_tslots=12\n"
     ]
    }
   ],
   "source": [
    "verbosity = 1\n",
    "# Create the configuration object\n",
    "# This holds the parameters for the pulse optimisation and any\n",
    "# general parameters\n",
    "cfg = qsoconfig.gen_optim_config(parse_cl_args=False, verbosity=verbosity)\n",
    "# fid_type options pure_Choi_local|pure_Choi_global|unit_global\n",
    "cfg.fid_type = 'pure_choi_local'\n",
    "# stats_type options: standard|local\n",
    "cfg.stats_type = 'local'\n",
    "# If true then processing stats will be collected\n",
    "cfg.gen_stats = True\n",
    "# If True then stats for each pulse optimisation will be reported\n",
    "cfg.report_stats = False\n",
    "# Print messaging level 0-3\n",
    "cfg.verbosity = verbosity\n",
    "# qutip internal logging level\n",
    "cfg.log_level = logging.WARN\n",
    "# If True then the physics parameters are included in the output\n",
    "cfg.report_phys_params = False\n",
    "# Folder where any output files will be saved\n",
    "cfg.output_dir = \"output/optim_CNOT/default\"\n",
    "# Used as part of output file names\n",
    "cfg.output_base_name = 'qso_CNOT'\n",
    "# Keep the pulse optimisation results, so we can plot amplitudes later\n",
    "cfg.keep_optim_result = True\n",
    "\n",
    "# Pulse generator type.\n",
    "# Options: \n",
    "# For descriptions see qutip.control.pulsegen.create_pulse_gen\n",
    "# Only the random types make sense with multiple repetitions\n",
    "cfg.p_type = 'RND'\n",
    "\n",
    "# These will be used as amplitude bounds for the PulseGenerator and the Optimizer\n",
    "cfg.amp_lbound = -np.Inf\n",
    "cfg.amp_ubound = np.Inf\n",
    "# Number of repetions for each pulse optimisation\n",
    "cfg.num_reps = 10\n",
    "# Number of cpus to utilise\n",
    "cfg.num_cpus = 4\n",
    "\n",
    "dir_ok, cfg.output_dir, msg = cfg.check_create_output_dir(cfg.output_dir)\n",
    "if not dir_ok:\n",
    "    raise RuntimeError(msg)\n",
    "if verbosity > 0:\n",
    "    print(\"Output files will be saved in:\\n{}\".format(cfg.output_dir))\n",
    "\n",
    "# Create the Optimizer object and its children\n",
    "# (Dynamics, FidelityComputer, TerminationConditions...)\n",
    "optim = qsoconfig.gen_optim_objects(cfg)\n"
   ]
  },
  {
   "cell_type": "code",
   "execution_count": 3,
   "metadata": {
    "collapsed": true
   },
   "outputs": [],
   "source": [
    "# Configure the quantum system\n",
    "dyn = optim.dynamics\n",
    "# Configure the quantum system\n",
    "# Physical parameters of the model\n",
    "# Any number of qubits >= 3 can choosen. However larger numbers take a lot of processing\n",
    "dyn.num_qubits = 3\n",
    "# interact options: Ising|Heisenberg| or combinations of xyz\n",
    "dyn.interact = 'Ising'\n",
    "# topology options: chain|star|full|ring\n",
    "dyn.topology = 'chain'\n",
    "# ctrls_type options: combinations of xyz\n",
    "dyn.ctrls_type = 'XY'\n",
    "# Interaction strengths (see qsoconfig.py for details)\n",
    "dyn.coup_const = 1.0\n",
    "# By CNOT gate is always on qubits 1&2\n",
    "# These attribs can be used to permute the couplings to effectively move the gate qubits\n",
    "# (see qsoconfig.py for details)\n",
    "dyn.hspace_order = []\n",
    "dyn.auto_hspace = False\n",
    "dyn.hspace_01_sep = 0\n",
    "dyn.hspace_0_idx = 0\n"
   ]
  },
  {
   "cell_type": "code",
   "execution_count": 4,
   "metadata": {
    "collapsed": false
   },
   "outputs": [
    {
     "name": "stdout",
     "output_type": "stream",
     "text": [
      "Configuring drift for 3 qubits\n",
      "using Ising interactions\n",
      "Drift dims [[2, 2, 2], [2, 2, 2]]\n",
      "Getting Ising chain drift for normalisation\n",
      "using Ising interactions\n",
      "Normalising drift with factor 1.0\n",
      "target set with subsys dims: [4, 2]\n",
      "Num acc: 0.0\n"
     ]
    }
   ],
   "source": [
    "# Pulse parameters\n",
    "# Number of timeslots for the pulse discretisation\n",
    "dyn.num_tslots = 12\n",
    "# Time allowed for the gate to evolve\n",
    "dyn.evo_time = 10.0\n",
    "\n",
    "# Pulse optimisation termination conditions\n",
    "# The optimisation algorithm will stop when any of these conditions are met\n",
    "tc = optim.termination_conditions\n",
    "# Target for the infidelity (1 - gate fidelity)\n",
    "tc.fid_err_targ = 1e-3\n",
    "# Sum of the gradients wrt optimisation parameters (timeslot amplitudes)\n",
    "tc.min_gradient_norm = 1e-30\n",
    "# Number of iterations of the algorithm\n",
    "tc.max_iter = 200\n",
    "# Computation time (in seconds)\n",
    "tc.max_wall_time = 60.0\n",
    "# Relative change in fid_err between iterations\n",
    "# (see qutip / scipy documentation for details)\n",
    "tc.accuracy_factor = 1e5\n",
    "\n",
    "# Fidelity computer\n",
    "fid_comp = dyn.fid_computer\n",
    "\n",
    "# This is the maximum precsion that sub-system fidelities are 'measured'\n",
    "# see choi_closed_fidcomp.my_round for details\n",
    "# Zero implies full machine precision\n",
    "fid_comp.numer_acc = 0.0\n",
    "\n",
    "# Pulse generator\n",
    "p_gen = optim.pulse_generator\n",
    "# by default initial amplitudes will be between -1 and 1\n",
    "# This can be changed by setting the bounds or scaling\n",
    "p_gen.lbound = cfg.amp_lbound\n",
    "p_gen.ubound = cfg.amp_ubound\n",
    "p_gen.scaling = 1.0\n",
    "\n",
    "# Create the targets and Hamiltonians\n",
    "qsoconfig.config_dynamics(dyn)\n"
   ]
  },
  {
   "cell_type": "markdown",
   "metadata": {},
   "source": [
    "## Run the pulse optimisation repetitions\n",
    "\n",
    "This simply repeats the control pulse optimisation the number of times specified by num_reps. The number of successful repeats and averaged statisics are reported."
   ]
  },
  {
   "cell_type": "code",
   "execution_count": 5,
   "metadata": {
    "collapsed": false
   },
   "outputs": [
    {
     "name": "stdout",
     "output_type": "stream",
     "text": [
      "Will run 4 reps on process 1 and 2 on another 3 processes\n",
      "Will use 1 threads per process\n",
      "Will start reps_idx 0 for 4 reps\n",
      "Will start reps_idx 1 for 2 reps\n",
      "Will start reps_idx 2 for 2 reps\n",
      "Will start reps_idx 3 for 2 reps\n",
      "All MP reps complete\n",
      "Combined results saved to:\n",
      "output/optim_CNOT/default/comb_qso_CNOT-pure_choi_local-chain-Ising-XY-CNOT-nq3.j0.txt\n",
      "Full results\n",
      "fid_err_targ\tfid_err_primary\tfid_err_secondary\tnum_iter\trun_time\ttermination\n",
      "1.0000e-03\t0.000792420506\t0.00046092153\t54\t0:00:14.325470\tGoal achieved\n",
      "1.0000e-03\t0.000854475889\t0.000692474853\t68\t0:00:18.470963\tGoal achieved\n",
      "1.0000e-03\t0.000893644482\t0.000557306054\t40\t0:00:12.200174\tGoal achieved\n",
      "1.0000e-03\t0.000915012966\t0.000473979737\t52\t0:00:09.093343\tGoal achieved\n",
      "1.0000e-03\t0.000949562361\t0.000584605988\t60\t0:00:09.452931\tGoal achieved\n",
      "1.0000e-03\t0.000962851867\t0.000616855188\t50\t0:00:14.342633\tGoal achieved\n",
      "1.0000e-03\t0.000970558131\t0.000542094956\t71\t0:00:18.738055\tGoal achieved\n",
      "1.0000e-03\t0.000978330904\t0.000633176801\t55\t0:00:16.160676\tGoal achieved\n",
      "1.0000e-03\t0.000981734815\t0.000604318027\t46\t0:00:13.980645\tGoal achieved\n",
      "1.0000e-03\t0.000996381075\t0.000643512717\t48\t0:00:14.214485\tGoal achieved\n",
      "\n",
      "\n",
      "Short Summary:\n",
      "Total number of successful repeats 10\n",
      "Total run time 0:02:20.979376 HH:MM:SS.US\n",
      "\n",
      "10 runs had primary error below the threshold of 0.001\n",
      "\twhere the average number of iterations were 54.4 +/- 9.15\n",
      "\tand the average global fidelity error was 0.0005809 +/- 6.99e-05\n",
      "and the avg run time was 0:00:14.097938 HH:MM:SS.US\n",
      "\n",
      "10 runs had secondary error below the threshold of 0.001\n",
      "\twhere the average number of iterations were 54.4 +/- 9.15\n",
      "where Primary err is local choi, secondary is global choi\n",
      "Analysis saved to:\n",
      "output/optim_CNOT/default/collate_qso_CNOT-pure_choi_local-chain-Ising-XY-CNOT-nq3.j0.txt\n"
     ]
    }
   ],
   "source": [
    "combres = qsorun.run_qso_sims_mp(optim)"
   ]
  },
  {
   "cell_type": "markdown",
   "metadata": {},
   "source": [
    "## Visualisation"
   ]
  },
  {
   "cell_type": "code",
   "execution_count": 6,
   "metadata": {
    "collapsed": false
   },
   "outputs": [
    {
     "data": {
      "text/plain": [
       "(array([ 2.,  5.,  1.,  2.]),\n",
       " array([ 40.  ,  47.75,  55.5 ,  63.25,  71.  ]),\n",
       " <a list of 4 Patch objects>)"
      ]
     },
     "execution_count": 6,
     "metadata": {},
     "output_type": "execute_result"
    },
    {
     "data": {
      "image/png": "[encoded data removed]",
      "text/plain": [
       "<matplotlib.figure.Figure at 0x7f9e9da1eda0>"
      ]
     },
     "metadata": {},
     "output_type": "display_data"
    },
    {
     "data": {
      "image/png": "[encoded data removed]",
      "text/plain": [
       "<matplotlib.figure.Figure at 0x7f9e9d9399b0>"
      ]
     },
     "metadata": {},
     "output_type": "display_data"
    }
   ],
   "source": [
    "# Plot the initial and final pulse for the best fidelity result\n",
    "best_result = combres.results[0].optim_result\n",
    "\n",
    "u0 = best_result.initial_amps\n",
    "uf = best_result.final_amps\n",
    "time = best_result.time\n",
    "\n",
    "fig1 = plt.figure()\n",
    "ax1 = fig1.add_subplot(2, 1, 1)\n",
    "ax1.set_title(\"Initial control amps\")\n",
    "ax1.set_xlabel(\"Time\")\n",
    "ax1.set_ylabel(\"Control amplitude\")\n",
    "for j in range(dyn.num_ctrls):\n",
    "    ax1.step(time, np.hstack((u0[:, j], u0[-1, j])), where='post')\n",
    "\n",
    "ax2 = fig1.add_subplot(2, 1, 2)\n",
    "ax2.set_title(\"Optimised Control Sequences\")\n",
    "ax2.set_xlabel(\"Time\")\n",
    "ax2.set_ylabel(\"Control amplitude\")\n",
    "for j in range(dyn.num_ctrls):\n",
    "    ax2.step(time, np.hstack((uf[:, j], uf[-1, j])), where='post')\n",
    "\n",
    "fig1.tight_layout()\n",
    "\n",
    "# Plot histogram of iterations for each repetition\n",
    "num_iter = [r.num_iter for r in combres.results]\n",
    "nbins = int(max(4, cfg.num_reps / 4))\n",
    "fig2 = plt.figure()\n",
    "ax3 = fig2.add_subplot(1, 1, 1)\n",
    "ax3.set_title(\"Iterations distribution\")\n",
    "ax2.set_xlabel(\"number of iterations\")\n",
    "ax2.set_ylabel(\"Frequency\")\n",
    "ax3.hist(num_iter, bins=nbins)"
   ]
  },
  {
   "cell_type": "markdown",
   "metadata": {},
   "source": [
    "## Numerical accuracy threshold search\n",
    "\n",
    "This is an automated search for the data required to determine the numerical accuracy threshold. It tries to maximise the number of data points for successful pulse optimisation proportion for numerical accuracy values.\n",
    "\n",
    "See `qsorun.run_qso_sims_numer_acc_limit` docstring for detailed description of how the search is run.\n",
    "\n",
    "Note that this search typically requires many repeated pulse optimisations. Meaning it will take a lot of cpu time.\n"
   ]
  },
  {
   "cell_type": "code",
   "execution_count": null,
   "metadata": {
    "collapsed": false
   },
   "outputs": [],
   "source": [
    "# Reset some paramters to be suitable for demonstrating the automatic search for \n",
    "# the numerical accuracy threshold\n",
    "# Note these parameters are chosen to mimimise processing time,\n",
    "# and are not ideal for creating a statistically valid result\n",
    "\n",
    "cfg.output_dir = \"output/optim_CNOT/nal\"\n",
    "\n",
    "# 50 reps would be much better\n",
    "cfg.num_reps = 10\n",
    "# 50 scenarios would be much better\n",
    "cfg.max_mp_scens = 20\n",
    "\n",
    "# Take an easy target fidelity\n",
    "tc.fid_err_targ = 1e-1\n",
    "\n",
    "# These next parameters are only used in the automatic search for the numerical\n",
    "# accuracy threshold\n",
    "fid_comp.st_numer_acc = 0.01\n",
    "fid_comp.end_numer_acc = 0.05\n",
    "# These proportions are used to determine the boundaries for the search\n",
    "# They are proportions of the number number of successful repeats \n",
    "# for the scenario.\n",
    "fid_comp.success_prop_uthresh = 0.90\n",
    "fid_comp.success_prop_lthresh = 0.1\n",
    "\n",
    "dir_ok, cfg.output_dir, msg = cfg.check_create_output_dir(cfg.output_dir)\n",
    "if not dir_ok:\n",
    "    raise RuntimeError(msg)\n",
    "\n",
    "# Clear any existing result collation file, otherwise this will be loaded\n",
    "# and the search will continue from where it left off\n",
    "for f in os.listdir(cfg.output_dir):\n",
    "    fp = os.path.join(cfg.output_dir, f)\n",
    "    if os.path.isfile(fp):\n",
    "        os.unlink(fp)\n",
    "        \n",
    "qsorun.run_qso_sims_numer_acc_limit(optim)\n",
    "\n",
    "# As there is no parameter file, we need to save some data for the interpolater\n",
    "interp_data = [dyn.num_qubits, fid_comp.st_numer_acc, fid_comp.end_numer_acc]\n",
    "interp_fpath = os.path.join(cfg.output_dir, \"interp.dat\")\n",
    "np.savetxt(interp_fpath, interp_data, fmt='%.5e')\n"
   ]
  },
  {
   "cell_type": "markdown",
   "metadata": {
    "collapsed": true
   },
   "source": [
    "## Analysis\n",
    "\n",
    "The data produced by the above can be analysed using the numer_acc_interpolate.py script or the interpolate_num_acc_thresh.ipynb notebook"
   ]
  },
  {
   "cell_type": "code",
   "execution_count": 7,
   "metadata": {
    "collapsed": false
   },
   "outputs": [
    {
     "data": {
      "text/html": [
       "<table><tr><th>Software</th><th>Version</th></tr><tr><td>QuTiP</td><td>4.0.2</td></tr><tr><td>Numpy</td><td>1.11.2</td></tr><tr><td>SciPy</td><td>0.18.1</td></tr><tr><td>matplotlib</td><td>1.5.3</td></tr><tr><td>Cython</td><td>0.24.1</td></tr><tr><td>Number of CPUs</td><td>2</td></tr><tr><td>BLAS Info</td><td>INTEL MKL</td></tr><tr><td>IPython</td><td>5.1.0</td></tr><tr><td>Python</td><td>3.5.2 |Anaconda custom (64-bit)| (default, Jul  2 2016, 17:53:06) \n",
       "[GCC 4.4.7 20120313 (Red Hat 4.4.7-1)]</td></tr><tr><td>OS</td><td>posix [linux]</td></tr><tr><td colspan='2'>Fri Apr 20 23:19:12 2018 BST</td></tr></table>"
      ],
      "text/plain": [
       "<IPython.core.display.HTML object>"
      ]
     },
     "execution_count": 7,
     "metadata": {},
     "output_type": "execute_result"
    }
   ],
   "source": [
    "from qutip.ipynbtools import version_table\n",
    "version_table()"
   ]
  },
  {
   "cell_type": "code",
   "execution_count": null,
   "metadata": {
    "collapsed": true
   },
   "outputs": [],
   "source": []
  }
 ],
 "metadata": {
  "kernelspec": {
   "display_name": "Python [default]",
   "language": "python",
   "name": "python3"
  },
  "language_info": {
   "codemirror_mode": {
    "name": "ipython",
    "version": 3
   },
   "file_extension": ".py",
   "mimetype": "text/x-python",
   "name": "python",
   "nbconvert_exporter": "python",
   "pygments_lexer": "ipython3",
   "version": "3.5.2"
  }
 },
 "nbformat": 4,
 "nbformat_minor": 2
}
