{
 "cells": [
  {
   "cell_type": "markdown",
   "metadata": {},
   "source": [
    "# Interpolate the numerical accuracy threshold search results"
   ]
  },
  {
   "cell_type": "code",
   "execution_count": null,
   "metadata": {
    "collapsed": true
   },
   "outputs": [],
   "source": [
    "import sys\n",
    "import os\n",
    "import numpy as np\n",
    "import matplotlib.pyplot as plt\n",
    "import glob\n",
    "#import re\n",
    "#import datetime\n",
    "#import shutil\n",
    "import qsoconfig\n",
    "import qsoresult"
   ]
  },
  {
   "cell_type": "markdown",
   "metadata": {},
   "source": [
    "## Configuration"
   ]
  },
  {
   "cell_type": "code",
   "execution_count": null,
   "metadata": {
    "collapsed": true
   },
   "outputs": [],
   "source": [
    "data_dir = \"example_output\"\n",
    "result_subdir = \"ising_chain-3q-nal\"\n",
    "#data_dir = \"output/optim_CNOT\"\n",
    "#result_subdir = \"nal\"\n",
    "#set comb_coll_fname=None to collate separately\n",
    "comb_coll_fname = None\n",
    "#result_subdir = \"5qubit-chain-ising_equal-xy_ctrl-cNOT1-fet1e-1-na2e-2\"\n",
    "param_file_pat = \"params*.ini\"\n",
    "coll_file_pat = \"nal_collate*.txt\"\n",
    "interp_fname = \"interp.dat\"\n",
    "plot_fname = \"interplot.png\"\n",
    "verbosity = 1\n",
    "\n"
   ]
  },
  {
   "cell_type": "markdown",
   "metadata": {},
   "source": [
    "## Loading the result data"
   ]
  },
  {
   "cell_type": "code",
   "execution_count": null,
   "metadata": {
    "collapsed": true
   },
   "outputs": [],
   "source": [
    "if '~' in data_dir:\n",
    "    data_dir = os.path.expanduser(data_dir)\n",
    "elif not os.path.abspath(data_dir):\n",
    "    # Assume relative path from cwd given\n",
    "    data_dir = os.path.join(os.getcwd(), data_dir)\n",
    "\n",
    "res_dir = os.path.join(data_dir, result_subdir)\n",
    "\n",
    "print(\"Results dir:\\n{}\".format(res_dir))\n",
    "if not os.path.isdir(res_dir):\n",
    "    raise RuntimeError(\"Results dir not valid\")\n",
    "\n",
    "# look for files to read existing results\n",
    "coll_na = {}\n",
    "na_list = []\n",
    "\n",
    "if verbosity > 0:\n",
    "    print(\"Searching in:\\n{}\".format(res_dir))\n",
    "    print(\"Looking for collation file matching {}\\n\".format(coll_file_pat))\n",
    "files = glob.glob(os.path.join(res_dir, coll_file_pat))\n",
    "\n",
    "if len(files) == 0:\n",
    "    print(\"No collation file to process\")\n",
    "\n",
    "plot_fpath = os.path.join(res_dir, plot_fname)\n",
    "\n",
    "# Take the most recent file, assume last in list\n",
    "collf = sorted(files)[-1]\n",
    "if verbosity > 0:\n",
    "    print(\"Loading collation from file:\\n{}\\n\".format(collf))\n",
    "reslist = qsoresult.MultiRepResult.load_from_txt(collf)\n",
    "for na_res in reslist:\n",
    "    na_list.append(na_res.numer_acc)\n",
    "    coll_na[na_res.numer_acc] = na_res\n",
    "\n",
    "na_arr = np.array(sorted(na_list))\n",
    "succ_props = []\n",
    "num_iters = []\n",
    "for na in na_arr:\n",
    "    na_res = coll_na[na]\n",
    "    succ_props.append(float(na_res.num_primary_success) / na_res.num_res)\n",
    "    num_iters.append(na_res.mean_iter_primary_success)\n",
    "    fid_err_targ = na_res.fid_err_targ\n",
    "\n",
    "succ_arr = np.array(succ_props)\n",
    "iter_arr = np.array(num_iters)\n",
    "na_lim = na_arr[-1]*1.2\n",
    "\n",
    "# Look for previous interp results file\n",
    "interp_fpath = os.path.join(res_dir, interp_fname)\n",
    "if os.path.isfile(interp_fpath):\n",
    "    if verbosity > 0:\n",
    "        print(\"Loading interp params from:\\n{}\\n\".format(interp_fpath))\n",
    "    data = np.loadtxt(interp_fpath)\n",
    "    # Note num_qubits only added to the file 2018-04-13\n",
    "    # interp files from before that will need number of qubits inserting\n",
    "    nq = int(data[0])\n",
    "    na_lb = data[1]\n",
    "    na_ub = data[2]\n",
    "    try:\n",
    "        succ_thresh = data[3]\n",
    "    except:\n",
    "        succ_thresh = 0.5\n",
    "else:\n",
    "    # No interp results file, look for a parameter file\n",
    "    param_pat = os.path.join(res_dir, param_file_pat)\n",
    "    if verbosity > 0:\n",
    "        print(\"Looking for parameter file matching:\\n{}\".format(param_pat))\n",
    "    files = glob.glob(param_pat)\n",
    "    n_files = len(files)\n",
    "    if n_files == 0:\n",
    "        print(\"NO PARAMETER FILES FOUND!\")\n",
    "        raise RuntimeError(\"No parameter file\")\n",
    "    print(\"Loading configuration from:\\n{}\".format(files[0]))\n",
    "    optim = qsoconfig.gen_config(files[0])\n",
    "    dyn = optim.dynamics\n",
    "    tc = optim.termination_conditions\n",
    "    fid_comp = optim.dynamics.fid_computer\n",
    "    nq = dyn.num_qubits\n",
    "    if not fid_comp.numer_acc_exact:\n",
    "        fid_comp.st_numer_acc = round_sigfigs(\n",
    "                fid_comp.st_numer_acc*fid_err_targ/tc.fid_err_targ, 6)\n",
    "        fid_comp.end_numer_acc = round_sigfigs(\n",
    "                fid_comp.end_numer_acc*fid_err_targ/tc.fid_err_targ, 6)\n",
    "\n",
    "    na_lb = fid_comp.st_numer_acc\n",
    "    na_ub = fid_comp.end_numer_acc\n",
    "    succ_thresh = 0.5\n",
    "\n"
   ]
  }
 ],
 "metadata": {
  "kernelspec": {
   "display_name": "Python 3",
   "language": "python",
   "name": "python3"
  },
  "language_info": {
   "codemirror_mode": {
    "name": "ipython",
    "version": 3
   },
   "file_extension": ".py",
   "mimetype": "text/x-python",
   "name": "python",
   "nbconvert_exporter": "python",
   "pygments_lexer": "ipython3",
   "version": "3.6.2"
  }
 },
 "nbformat": 4,
 "nbformat_minor": 2
}
