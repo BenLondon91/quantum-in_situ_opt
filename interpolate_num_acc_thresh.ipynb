{
 "cells": [
  {
   "cell_type": "markdown",
   "metadata": {},
   "source": [
    "# Interpolate the numerical accuracy threshold search results\n",
    "\n",
    "[Alexander Pitchford](http://github.com/ajgpitch), [Benjamin Dive](https://github.com/BenLondon91)\n",
    "\n",
    "Interpolate the numerical accuracy search data to determine the threshold at which it starts to reduce the pulse optimisation success below some specified value (typically 50%)\n",
    "\n",
    "It will look for data files in a directory specified by:\n",
    "    `data_dir/result_subdir`\n",
    "    \n",
    "This can be an absolute path or relative to the current working directory or relative to the user home directory by starting data_dir with `~/`.\n",
    "\n",
    "A collated results file will be looked for that must match the pattern:\n",
    " `coll_file_pat = \"nal_collate*.txt\"`\n",
    "\n",
    "Some parameters used for the optimisations are also needed. These will first be looked for in a file:\n",
    "    `interp_fname = \"interp.dat\"`. \n",
    "    \n",
    "If this is not present then it will look for a parameter file matching:\n",
    "    `param_file_pat = \"params*.ini\"`\n",
    "\n",
    "The data are interpolated using `numpy.polyfit`. This gives a line of best fit with gradient and an intercept, with variance on both. Hence these can be used to estimate the threshold and it's uncertianty. Although the data would seem to look more Gaussian than linear, linear would seem to be a good approximation around the 50% threshold. This method would probably not be reliable for estimating high (e.g. 90%) or low (e.g. 10%) thresholds. However, the objective is to look for a trend as system size grows, so the choice of success proportion threshold is somehow arbitary, so long as it is reliable and consistent. A similar interpolation is used to estimate the number of iterations required on average to optimise pulses if the numerical accuracy was at the threshold level.\n",
    "\n",
    "The results are shown in two plots. These show the data points, trend lines, and the threshold points are marked with error bars, which illustrate the uncertainty.\n",
    "\n",
    "As the data at the extremes of success proportion are not expected to fit the linear model, then these are excluded from the interpolation. For the first attempt these exclusion boundaries are estimated based on the fidelity\n",
    "error target. It is possible to change them interactively using input box.\n",
    "\n",
    "The parameters used, iterpolation results, and exclusion boundaries are saved in the \n",
    " `interp_fname = \"interp.dat\"` \n",
    "file. So if the notebook is re-run, then the exclusion boundaries are rememebered. Also the plots are saved to file."
   ]
  },
  {
   "cell_type": "code",
   "execution_count": 1,
   "metadata": {
    "collapsed": true
   },
   "outputs": [],
   "source": [
    "%matplotlib inline\n",
    "import sys\n",
    "import os\n",
    "import numpy as np\n",
    "import matplotlib.pyplot as plt\n",
    "import glob\n",
    "import qsoconfig\n",
    "import qsoresult"
   ]
  },
  {
   "cell_type": "markdown",
   "metadata": {},
   "source": [
    "## Configuration"
   ]
  },
  {
   "cell_type": "code",
   "execution_count": 2,
   "metadata": {
    "collapsed": true
   },
   "outputs": [],
   "source": [
    "data_dir = \"example_output\"\n",
    "result_subdir = \"3qubit-chain-ising_equal-xy_ctrl-cNOT1-sens-nq3fet1e-3-try4\"\n",
    "\n",
    "# These below are the default output directories for the script and notebook that produce the data\n",
    "#data_dir = \"output/optim_CNOT\"\n",
    "#result_subdir = \"nal\"\n",
    "param_file_pat = \"params*.ini\"\n",
    "coll_file_pat = \"nal_collate*.txt\"\n",
    "interp_fname = \"interp.dat\"\n",
    "plot_fname = \"interplot.png\"\n",
    "verbosity = 1\n",
    "\n"
   ]
  },
  {
   "cell_type": "markdown",
   "metadata": {},
   "source": [
    "## Loading the result data"
   ]
  },
  {
   "cell_type": "code",
   "execution_count": 3,
   "metadata": {},
   "outputs": [
    {
     "name": "stdout",
     "output_type": "stream",
     "text": [
      "Results dir:\n",
      "example_output/3qubit-chain-ising_equal-xy_ctrl-cNOT1-sens-nq3fet1e-3-try4\n",
      "Searching in:\n",
      "example_output/3qubit-chain-ising_equal-xy_ctrl-cNOT1-sens-nq3fet1e-3-try4\n",
      "Looking for collation file matching nal_collate*.txt\n",
      "\n",
      "Loading collation from file:\n",
      "example_output/3qubit-chain-ising_equal-xy_ctrl-cNOT1-sens-nq3fet1e-3-try4/nal_collate_qso-pure_Choi_local-chain-Ising-XY-CNOT-nq3.j1496816.txt\n",
      "\n",
      "Loading interp params from:\n",
      "example_output/3qubit-chain-ising_equal-xy_ctrl-cNOT1-sens-nq3fet1e-3-try4/interp.dat\n",
      "\n"
     ]
    }
   ],
   "source": [
    "if '~' in data_dir:\n",
    "    data_dir = os.path.expanduser(data_dir)\n",
    "elif not os.path.abspath(data_dir):\n",
    "    # Assume relative path from cwd given\n",
    "    data_dir = os.path.join(os.getcwd(), data_dir)\n",
    "\n",
    "res_dir = os.path.join(data_dir, result_subdir)\n",
    "\n",
    "print(\"Results dir:\\n{}\".format(res_dir))\n",
    "if not os.path.isdir(res_dir):\n",
    "    raise RuntimeError(\"Results dir not valid\")\n",
    "\n",
    "# look for files to read existing results\n",
    "coll_na = {}\n",
    "na_list = []\n",
    "\n",
    "if verbosity > 0:\n",
    "    print(\"Searching in:\\n{}\".format(res_dir))\n",
    "    print(\"Looking for collation file matching {}\\n\".format(coll_file_pat))\n",
    "files = glob.glob(os.path.join(res_dir, coll_file_pat))\n",
    "\n",
    "if len(files) == 0:\n",
    "    print(\"No collation file to process\")\n",
    "\n",
    "plot_fpath = os.path.join(res_dir, plot_fname)\n",
    "\n",
    "# Take the most recent file, assume last in list\n",
    "collf = sorted(files)[-1]\n",
    "if verbosity > 0:\n",
    "    print(\"Loading collation from file:\\n{}\\n\".format(collf))\n",
    "reslist = qsoresult.MultiRepResult.load_from_txt(collf)\n",
    "for na_res in reslist:\n",
    "    na_list.append(na_res.numer_acc)\n",
    "    coll_na[na_res.numer_acc] = na_res\n",
    "\n",
    "na_arr = np.array(sorted(na_list))\n",
    "succ_props = []\n",
    "num_iters = []\n",
    "for na in na_arr:\n",
    "    na_res = coll_na[na]\n",
    "    succ_props.append(float(na_res.num_primary_success) / na_res.num_res)\n",
    "    num_iters.append(na_res.mean_iter_primary_success)\n",
    "    fid_err_targ = na_res.fid_err_targ\n",
    "\n",
    "succ_arr = np.array(succ_props)\n",
    "iter_arr = np.array(num_iters)\n",
    "na_lim = na_arr[-1]*1.2\n",
    "\n",
    "# Look for previous interp results file\n",
    "interp_fpath = os.path.join(res_dir, interp_fname)\n",
    "if os.path.isfile(interp_fpath):\n",
    "    if verbosity > 0:\n",
    "        print(\"Loading interp params from:\\n{}\\n\".format(interp_fpath))\n",
    "    data = np.loadtxt(interp_fpath)\n",
    "    # Note num_qubits only added to the file 2018-04-13\n",
    "    # interp files from before that will need number of qubits inserting\n",
    "    nq = int(data[0])\n",
    "    na_lb = data[1]\n",
    "    na_ub = data[2]\n",
    "    try:\n",
    "        succ_thresh = data[3]\n",
    "    except:\n",
    "        succ_thresh = 0.5\n",
    "else:\n",
    "    # No interp results file, look for a parameter file\n",
    "    param_pat = os.path.join(res_dir, param_file_pat)\n",
    "    if verbosity > 0:\n",
    "        print(\"Looking for parameter file matching:\\n{}\".format(param_pat))\n",
    "    files = glob.glob(param_pat)\n",
    "    n_files = len(files)\n",
    "    if n_files == 0:\n",
    "        print(\"NO PARAMETER FILES FOUND!\")\n",
    "        raise RuntimeError(\"No parameter file\")\n",
    "    print(\"Loading configuration from:\\n{}\".format(files[0]))\n",
    "    optim = qsoconfig.gen_config(files[0])\n",
    "    dyn = optim.dynamics\n",
    "    tc = optim.termination_conditions\n",
    "    fid_comp = optim.dynamics.fid_computer\n",
    "    nq = dyn.num_qubits\n",
    "    if not fid_comp.numer_acc_exact:\n",
    "        fid_comp.st_numer_acc = round_sigfigs(\n",
    "                fid_comp.st_numer_acc*fid_err_targ/tc.fid_err_targ, 6)\n",
    "        fid_comp.end_numer_acc = round_sigfigs(\n",
    "                fid_comp.end_numer_acc*fid_err_targ/tc.fid_err_targ, 6)\n",
    "\n",
    "    na_lb = fid_comp.st_numer_acc\n",
    "    na_ub = fid_comp.end_numer_acc\n",
    "    succ_thresh = 0.5\n",
    "\n"
   ]
  },
  {
   "cell_type": "code",
   "execution_count": 4,
   "metadata": {},
   "outputs": [
    {
     "name": "stdout",
     "output_type": "stream",
     "text": [
      "Numerical accuracy threshold calculated:\n",
      "50.0% thresh=3.237e-05 +/- 2.23e-06\n",
      "\n",
      "Mean interations and combined error for numerical accuracy threshold calculated:\n",
      "na_thresh_iter=5.684e+01 +/- 1.56e+00\n",
      "\n",
      "Numerical accuracy result bounds: lower 0.0, upper 5e-05\n"
     ]
    },
    {
     "data": {
      "image/png": "[encoded data removed]",
      "text/plain": [
       "<matplotlib.figure.Figure at 0x7f397cccecc0>"
      ]
     },
     "metadata": {},
     "output_type": "display_data"
    }
   ],
   "source": [
    "fig = plt.figure(figsize=(16,6))\n",
    "\n",
    "sel = (na_arr > na_lb) & (na_arr < na_ub)\n",
    "sel_na = na_arr[sel]\n",
    "other_na = na_arr[~sel]\n",
    "sel_succ = succ_arr[sel]\n",
    "other_succ = succ_arr[~sel]\n",
    "sel_iter = iter_arr[sel]\n",
    "other_iter = iter_arr[~sel]\n",
    "\n",
    "fig.clear()\n",
    "ax1 = fig.add_subplot(121)\n",
    "ax1.plot(sel_na, sel_succ, 'x', label='included {}'.format(len(sel_na)))\n",
    "ax1.plot(other_na, other_succ, 'x', label='excluded {}'.format(len(other_na)))\n",
    "ax1.vlines([na_lb, na_ub], 0, 1)\n",
    "ax1.set_xlim(0, na_lim)\n",
    "ax1.set_title(\"Numerical accuracy limit for {} \"\n",
    "             \"qubits fid_err_targ {}\".format(nq, fid_err_targ))\n",
    "ax1.set_xlabel(\"numerical accuracy\")\n",
    "ax1.set_ylabel(\"pulseoptim success proportion\")\n",
    "\n",
    "ax2 = fig.add_subplot(122)\n",
    "ax2.plot(sel_na, sel_iter, 'x', label='included {}'.format(len(sel_na)))\n",
    "ax2.plot(other_na, other_iter, 'x', label='excluded {}'.format(len(other_na)))\n",
    "ax2.vlines([na_lb, na_ub], 0, max(iter_arr))\n",
    "\n",
    "ax2.set_xlim(0, na_lim)\n",
    "ax2.set_title(\"Iterations for {} \"\n",
    "             \"qubits fid_err_targ {}\".format(nq, fid_err_targ))\n",
    "ax2.set_xlabel(\"numerical accuracy\")\n",
    "ax2.set_ylabel(\"num iter\")\n",
    "\n",
    "num_sel = len(sel_na)\n",
    "interp_data = [nq, na_lb, na_ub, succ_thresh, fid_err_targ, num_sel]\n",
    "\n",
    "# Note we are doing this inverted,\n",
    "# as we are interested in the error in na to succ_prop\n",
    "# m, c, r, p, e = linregress(sel_succ, sel_na)\n",
    "try:\n",
    "    p, V = np.polyfit(sel_succ, sel_na, 1, cov=True)\n",
    "    m = p[0]\n",
    "    c = p[1]\n",
    "    m_var = V[0][0]\n",
    "    c_var = V[1][1]\n",
    "    interpsp = True\n",
    "except:\n",
    "    print(\"success proportion polyfit failed: {}\".format(sys.exc_info()[0]))\n",
    "    print(\"Try changing the result bounds\")\n",
    "    interpsp = False\n",
    "\n",
    "if interpsp:\n",
    "    # plot the fit\n",
    "    # Not this is simple only because range is succ=0 to succ=1\n",
    "    fitlinex = [c, m + c]\n",
    "    fitliney = [0, 1]\n",
    "    na_thresh = succ_thresh*m + c\n",
    "    na_thresh_err = np.sqrt(m_var*succ_thresh**2 + c_var)\n",
    "    na_thresh_msg = '{}% thresh={:0.3e} +/- {:0.2e}'.format(\n",
    "                        succ_thresh*100, na_thresh, na_thresh_err)\n",
    "    print(\"Numerical accuracy threshold calculated:\\n\" + na_thresh_msg + \"\\n\")\n",
    "\n",
    "    interp_data += [na_thresh, na_thresh_err]\n",
    "    ax1.plot(fitlinex, fitliney, label='lin fit')\n",
    "    ax1.errorbar(na_thresh, succ_thresh, xerr=na_thresh_err, label=na_thresh_msg)\n",
    "    ax1.legend()\n",
    "\n",
    "    try:\n",
    "        p, V = np.polyfit(sel_na, sel_iter, 1, cov=True)\n",
    "        m = p[0]\n",
    "        c = p[1]\n",
    "        m_var = V[0][0]\n",
    "        c_var = V[1][1]\n",
    "        if verbosity > 1:\n",
    "            print(\"interpni: m {}, c{}\".format(m, c))\n",
    "            print(\"interpni variance: m {}, c{}\".format(m_var, c_var))\n",
    "        interpni = True\n",
    "    except:\n",
    "        print(\"num iter polyfit failed: {}\".format(sys.exc_info()[0]))\n",
    "        interpni = False\n",
    "\n",
    "    if interpni:\n",
    "        # plot the fit\n",
    "        miny = min(sel_iter)\n",
    "        maxy = max(sel_iter)\n",
    "        minx = min(sel_na)\n",
    "        maxx = max(sel_na)\n",
    "        fitlinex = [minx, maxx]\n",
    "        fitliney = [m*minx + c, m*maxx + c]\n",
    "        na_thresh_iter = na_thresh*m + c\n",
    "        iter_err = np.sqrt(m_var*na_thresh**2 + c_var)\n",
    "        comb_err = np.sqrt((m*na_thresh_err)**2 + iter_err**2)\n",
    "        na_thresh_iter_msg ='na_thresh_iter={:0.3e} +/- {:0.2e}'.format(\n",
    "                                na_thresh_iter, comb_err)\n",
    "        print(\"Mean interations and combined error for numerical accuracy \"\n",
    "              \"threshold calculated:\\n\" + na_thresh_iter_msg + \"\\n\")\n",
    "        \n",
    "        interp_data += [na_thresh_iter, iter_err, comb_err]\n",
    "        ax2.plot(fitlinex, fitliney, label='lin fit')\n",
    "        ax2.errorbar(na_thresh, na_thresh_iter, yerr=iter_err, label='na_thresh_iter err')\n",
    "        ax2.errorbar(na_thresh, na_thresh_iter, yerr=comb_err, label=na_thresh_iter_msg)\n",
    "        ax2.legend(loc=0)\n",
    "\n",
    "np.savetxt(interp_fpath, interp_data, fmt='%.5e')\n",
    "print(\"Numerical accuracy result bounds: lower {}, upper {}\".format(na_lb, na_ub))"
   ]
  },
  {
   "cell_type": "code",
   "execution_count": 5,
   "metadata": {
    "collapsed": true
   },
   "outputs": [],
   "source": [
    "# Here you can change the bounds for the reuslts that are included in the interpolation.\n",
    "# (see previous output for current values)\n",
    "# Then run the plotting cell again\n",
    "# Lower (for example data 0.0001 was used)\n",
    "na_lb = 0.0003\n",
    "# Upper (for example data 0.002 was used)\n",
    "na_ub = 0.003\n",
    "# The 50% success threshold was used for the paper. Other options are also valid.\n",
    "succ_thresh = 0.5"
   ]
  },
  {
   "cell_type": "code",
   "execution_count": 6,
   "metadata": {},
   "outputs": [
    {
     "data": {
      "text/html": [
       "<table><tr><th>Software</th><th>Version</th></tr><tr><td>QuTiP</td><td>4.2.0</td></tr><tr><td>Numpy</td><td>1.13.1</td></tr><tr><td>SciPy</td><td>0.19.1</td></tr><tr><td>matplotlib</td><td>2.0.2</td></tr><tr><td>Cython</td><td>0.26</td></tr><tr><td>Number of CPUs</td><td>4</td></tr><tr><td>BLAS Info</td><td>INTEL MKL</td></tr><tr><td>IPython</td><td>6.1.0</td></tr><tr><td>Python</td><td>3.6.2 |Continuum Analytics, Inc.| (default, Jul 20 2017, 13:51:32) \n",
       "[GCC 4.4.7 20120313 (Red Hat 4.4.7-1)]</td></tr><tr><td>OS</td><td>posix [linux]</td></tr><tr><td colspan='2'>Mon Apr 23 17:20:34 2018 BST</td></tr></table>"
      ],
      "text/plain": [
       "<IPython.core.display.HTML object>"
      ]
     },
     "execution_count": 6,
     "metadata": {},
     "output_type": "execute_result"
    }
   ],
   "source": [
    "from qutip.ipynbtools import version_table\n",
    "version_table()"
   ]
  },
  {
   "cell_type": "code",
   "execution_count": null,
   "metadata": {
    "collapsed": true
   },
   "outputs": [],
   "source": []
  }
 ],
 "metadata": {
  "anaconda-cloud": {},
  "kernelspec": {
   "display_name": "Python 3",
   "language": "python",
   "name": "python3"
  },
  "language_info": {
   "codemirror_mode": {
    "name": "ipython",
    "version": 3
   },
   "file_extension": ".py",
   "mimetype": "text/x-python",
   "name": "python",
   "nbconvert_exporter": "python",
   "pygments_lexer": "ipython3",
   "version": "3.6.2"
  }
 },
 "nbformat": 4,
 "nbformat_minor": 2
}
